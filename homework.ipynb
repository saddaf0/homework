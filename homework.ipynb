{
 "cells": [
  {
   "cell_type": "code",
   "execution_count": null,
   "id": "e61dbcef",
   "metadata": {},
   "outputs": [],
   "source": [
    "1. What is a Jupyter notebook? \n",
    "Ans:Jupyter notebook is web application use for writing python code.\n"
   ]
  },
  {
   "cell_type": "code",
   "execution_count": null,
   "id": "1cc4ee5e",
   "metadata": {},
   "outputs": [],
   "source": [
    "2. How do you add a new code cell below an existing cell?\n",
    "ans:click on insert then there are 2 option we have click on insert cell Below B\n"
   ]
  },
  {
   "cell_type": "code",
   "execution_count": null,
   "id": "e5b0d88e",
   "metadata": {},
   "outputs": [],
   "source": [
    "3. How do you add a new Markdown cell below an existing cell?\n",
    "ans: first insert the cell then convert that cell to markdown cell\n"
   ]
  },
  {
   "cell_type": "code",
   "execution_count": null,
   "id": "7d4204ad",
   "metadata": {},
   "outputs": [],
   "source": [
    "4. How do you convert a code cell to a Markdown cell or vice versa?\n",
    "Ans:its a very simple step click on existing cell from the top menu we have a option(code/markdown) we can select any one option from there to which cell we want to convert\n",
    "\n"
   ]
  },
  {
   "cell_type": "code",
   "execution_count": null,
   "id": "80962325",
   "metadata": {},
   "outputs": [],
   "source": [
    "5. How do you execute a code cell within Jupyter?\n",
    "1>From the top menu click on run\n",
    "2.short cut press ctrl+enter\n"
   ]
  },
  {
   "cell_type": "code",
   "execution_count": null,
   "id": "2d4a0cc0",
   "metadata": {},
   "outputs": [],
   "source": [
    "6. What the different arithmetic operations supported in Python?\n",
    "Ans:  1. Addition\n",
    "\t2.subtraction\n",
    "\t3.multiplication\n",
    "\t4.division\n",
    "\t5.modules\n",
    "\t6.exponent\n",
    "\t"
   ]
  },
  {
   "cell_type": "code",
   "execution_count": null,
   "id": "d9cff85a",
   "metadata": {},
   "outputs": [],
   "source": [
    "\n",
    "7. How do you perform arithmetic operations using Python?\n",
    "ans : We can use as inn condition,function and print the values"
   ]
  },
  {
   "cell_type": "code",
   "execution_count": null,
   "id": "0b813375",
   "metadata": {},
   "outputs": [],
   "source": [
    "# 8. What is the difference between the `/` and the `//` operators?\n",
    "# Ans: may be to divide the numbers \n",
    "\n",
    "# 9. What is the difference between the `` and the `*` operators?\n",
    "# 10. What is the order of precedence for arithmetic operators in Python?\n",
    "# 11. How do you specify the order in which arithmetic operations are performed in an expression involving multiple operators?\n",
    "# 12. How do you solve a multi-step arithmetic word problem using Python?\n",
    "i don't no"
   ]
  },
  {
   "cell_type": "code",
   "execution_count": null,
   "id": "adc0c487",
   "metadata": {},
   "outputs": [],
   "source": [
    "3. What are variables? Why are they useful?\n",
    "ans: variable is a like a container in which we can store any kind of data like, str, int,float,boolean and so on \n"
   ]
  },
  {
   "cell_type": "code",
   "execution_count": null,
   "id": "6e4d53e2",
   "metadata": {},
   "outputs": [],
   "source": [
    "14. How do you create a variable in Python?\n",
    "Ans python is a dynamic semantic language in which we no need to declare a var keyword we simply create a variable by the name for example\n",
    "\t\n",
    "\t"
   ]
  },
  {
   "cell_type": "code",
   "execution_count": 2,
   "id": "8246f0f6",
   "metadata": {},
   "outputs": [
    {
     "name": "stdout",
     "output_type": "stream",
     "text": [
      "saddaf 24 24.5 True\n"
     ]
    }
   ],
   "source": [
    "name=\"saddaf\" #name is variable in which str data is store\n",
    "age=24\n",
    "number=24.5\n",
    "good =True\n",
    "print(name,age,number,good)"
   ]
  },
  {
   "cell_type": "code",
   "execution_count": null,
   "id": "867763ab",
   "metadata": {},
   "outputs": [],
   "source": [
    "15. What is the assignment operator in Python?\n",
    "Ans : assignment operator is a special opertor which is use to assign or compare the values store in variable\n",
    "\t==, != ,!, < ,> <=,>=,and , or"
   ]
  },
  {
   "cell_type": "code",
   "execution_count": null,
   "id": "683e9c9b",
   "metadata": {},
   "outputs": [],
   "source": [
    "16. What are the rules for naming a variable in Python?\n",
    "Ans: 1.variable name can start with either capital or small letter\n",
    "\t2. variable name can start with underscore(_)\n",
    "\t3. variable name can't start with an special characters like(@,#,$,%,& ,*, whitespace ,number, !, $#)\n",
    "\t4. variable name can't be an keywords(reserverd words)"
   ]
  },
  {
   "cell_type": "code",
   "execution_count": null,
   "id": "779012c5",
   "metadata": {},
   "outputs": [],
   "source": [
    "17. How do you view the value of a variable?\n",
    "Ans : using the print statement \n",
    "ex:   a=20;\n",
    "\tb=40\n",
    "\tprint(a,b)\n"
   ]
  },
  {
   "cell_type": "code",
   "execution_count": null,
   "id": "1cba8d42",
   "metadata": {},
   "outputs": [],
   "source": [
    "18. How do you store the result of an arithmetic expression in a variable?\n",
    "Ans : To store the result of arithmetic expression first we have to perform an task \n",
    "ex   "
   ]
  },
  {
   "cell_type": "code",
   "execution_count": 3,
   "id": "23370ecb",
   "metadata": {},
   "outputs": [
    {
     "name": "stdout",
     "output_type": "stream",
     "text": [
      "60\n"
     ]
    }
   ],
   "source": [
    "a=20\n",
    "b=40\n",
    "c=a+b\n",
    "print(c)\n"
   ]
  },
  {
   "cell_type": "markdown",
   "id": "bb46eff3",
   "metadata": {},
   "source": [
    "19. What happens if you try to access a variable that has not been defined?\n",
    "Ans: It will show an name error that variable is not defined\n",
    "ex:   age=24\n",
    "\tprint(money)\n",
    "nameError: name 'money' is not defined"
   ]
  },
  {
   "cell_type": "code",
   "execution_count": 4,
   "id": "e5bfaf62",
   "metadata": {},
   "outputs": [
    {
     "ename": "NameError",
     "evalue": "name 'money' is not defined",
     "output_type": "error",
     "traceback": [
      "\u001b[1;31m---------------------------------------------------------------------------\u001b[0m",
      "\u001b[1;31mNameError\u001b[0m                                 Traceback (most recent call last)",
      "\u001b[1;32m~\\AppData\\Local\\Temp\\ipykernel_23708\\2350994153.py\u001b[0m in \u001b[0;36m<module>\u001b[1;34m\u001b[0m\n\u001b[0;32m      1\u001b[0m \u001b[0mage\u001b[0m\u001b[1;33m=\u001b[0m\u001b[1;36m24\u001b[0m\u001b[1;33m\u001b[0m\u001b[1;33m\u001b[0m\u001b[0m\n\u001b[1;32m----> 2\u001b[1;33m \u001b[0mprint\u001b[0m\u001b[1;33m(\u001b[0m\u001b[0mmoney\u001b[0m\u001b[1;33m)\u001b[0m\u001b[1;33m\u001b[0m\u001b[1;33m\u001b[0m\u001b[0m\n\u001b[0m",
      "\u001b[1;31mNameError\u001b[0m: name 'money' is not defined"
     ]
    }
   ],
   "source": [
    "age=24\n",
    "print(money)"
   ]
  },
  {
   "cell_type": "code",
   "execution_count": null,
   "id": "fd32ea2c",
   "metadata": {},
   "outputs": [],
   "source": [
    "20. How do you display messages in Python?\n",
    "Ans: using print statment\n",
    "print(\"hello world) press ctrl+enter\n",
    "hello world\n"
   ]
  },
  {
   "cell_type": "code",
   "execution_count": 6,
   "id": "8aa98fc9",
   "metadata": {},
   "outputs": [
    {
     "name": "stdout",
     "output_type": "stream",
     "text": [
      "hello world\n"
     ]
    }
   ],
   "source": [
    "print(\"hello world\")"
   ]
  },
  {
   "cell_type": "code",
   "execution_count": null,
   "id": "650a151f",
   "metadata": {},
   "outputs": [],
   "source": [
    "21. What type of inputs can the print function accept?\n",
    "Ans: It can be int, float,str,multi str, calling function,variable\n"
   ]
  },
  {
   "cell_type": "code",
   "execution_count": null,
   "id": "e79e48de",
   "metadata": {},
   "outputs": [],
   "source": [
    "22. What are code comments? How are they useful?\n",
    "Ans: comments is good habit for the coder to communicate with someone and self explainatory about the code\n",
    "comment can be a good or bad both.\n",
    "comment start with # in python \n",
    "useful of comments\n",
    "1. debugging\n",
    "2. better understanding the coding\n",
    "3. avoiding bugs \n"
   ]
  },
  {
   "cell_type": "code",
   "execution_count": null,
   "id": "97dbc41e",
   "metadata": {},
   "outputs": [],
   "source": [
    "23. What are the different ways of creating comments in Python code?\n",
    "Ans: There are 2 ways we can write comment in single line comment or multiline comments.we can use #,'''....''' , \"\"\"....\"\"\". \n",
    "single line comment\n",
    "ex #this a comment\n",
    "\n",
    "multiline comment:\n",
    "#What are the different comparison operations supported in Python?\n",
    "# What is the result of a comparison operation?\n",
    "# What is the difference between `=` and `==` in Python?\n",
    "\n",
    "doctype comment:\n",
    "we can also use doctype comment this comment will describe the particular line we can use this comment in below any function\n",
    "def add(n1,n2):\n",
    "   '''calculating addition of 2 numbers'''\n",
    "\tretun(n1+n2)"
   ]
  },
  {
   "cell_type": "code",
   "execution_count": null,
   "id": "5e24260f",
   "metadata": {},
   "outputs": [],
   "source": [
    "# 24. What are the different comparison operations supported in Python?\n",
    "Ans: <,<=,>,>=,==,!="
   ]
  },
  {
   "cell_type": "code",
   "execution_count": null,
   "id": "1381c23e",
   "metadata": {},
   "outputs": [],
   "source": [
    "25. What is the result of a comparison operation?\n",
    "Ans: true, false"
   ]
  },
  {
   "cell_type": "code",
   "execution_count": null,
   "id": "d5fdec4f",
   "metadata": {},
   "outputs": [],
   "source": [
    "26. What is the difference between `=` and `==` in Python?\n",
    "Ans: single = mean assigning the values\n",
    "    ex: a=30\n",
    "    double equal sign mean comparing\n",
    "    ex a==b"
   ]
  },
  {
   "cell_type": "markdown",
   "id": "98f4ef9f",
   "metadata": {},
   "source": [
    "27. What are the logical operators supported in Python?\n",
    "There are 3 type of logical operator we have Logical and , logical or and logical not"
   ]
  },
  {
   "cell_type": "markdown",
   "id": "7efb768d",
   "metadata": {},
   "source": [
    "28. What is the difference between the `and` and `or` operators?\n",
    "Ans: and operator use when both th stmt must be true\n",
    "    example if we want bake pizza we require both base (and) topping\n",
    "    or operator will use if any one condtion must be true\n",
    "    example choice between pizza (Or) burger"
   ]
  },
  {
   "cell_type": "code",
   "execution_count": null,
   "id": "cf3f369b",
   "metadata": {},
   "outputs": [],
   "source": [
    "29. Can you use comparison and logical operators in the same expression?\n",
    "Ans : yes we can use \n",
    "    example if we want to buy pizza and buger both compare money must be equal to 500"
   ]
  },
  {
   "cell_type": "code",
   "execution_count": null,
   "id": "f3aea1bf",
   "metadata": {},
   "outputs": [],
   "source": [
    "30. What is the purpose of using parentheses in arithmetic or logical expressions?\n",
    "if one condition is true another is false because of that to check will use parenthese"
   ]
  },
  {
   "cell_type": "code",
   "execution_count": null,
   "id": "6ec7d55d",
   "metadata": {},
   "outputs": [],
   "source": [
    "31. What is Markdown? Why is it useful?\n",
    "markdown make the cell to text editor so the we can any statement\n",
    "useful of markdown: we can add image, paragraph and any time we convert the cell to code to markdown and vice versa"
   ]
  },
  {
   "cell_type": "code",
   "execution_count": null,
   "id": "9d72f2bd",
   "metadata": {},
   "outputs": [],
   "source": [
    "## 32. How do you create headings of different sizes using Markdown?\n",
    "ans: click on heading from top menu"
   ]
  },
  {
   "cell_type": "code",
   "execution_count": null,
   "id": "1467bd5e",
   "metadata": {},
   "outputs": [],
   "source": [
    "33. How do you create bulleted and numbered lists using Markdown?\n",
    "click on show all line number"
   ]
  },
  {
   "cell_type": "code",
   "execution_count": null,
   "id": "9c214f42",
   "metadata": {},
   "outputs": [],
   "source": [
    "# 34. How do you create bold or italic text using Markdown?\n"
   ]
  },
  {
   "cell_type": "code",
   "execution_count": null,
   "id": "66405a5e",
   "metadata": {},
   "outputs": [],
   "source": [
    "35. How do you include links & images within Markdown cells?\n",
    "no idea\n"
   ]
  }
 ],
 "metadata": {
  "kernelspec": {
   "display_name": "Python 3 (ipykernel)",
   "language": "python",
   "name": "python3"
  },
  "language_info": {
   "codemirror_mode": {
    "name": "ipython",
    "version": 3
   },
   "file_extension": ".py",
   "mimetype": "text/x-python",
   "name": "python",
   "nbconvert_exporter": "python",
   "pygments_lexer": "ipython3",
   "version": "3.9.13"
  }
 },
 "nbformat": 4,
 "nbformat_minor": 5
}
